{
 "cells": [
  {
   "cell_type": "code",
   "execution_count": 8,
   "metadata": {},
   "outputs": [],
   "source": [
    "#imports\n",
    "import os\n",
    "os.chdir('../') "
   ]
  },
  {
   "cell_type": "code",
   "execution_count": 9,
   "metadata": {},
   "outputs": [],
   "source": [
    "from lib.readfile import ReadFile as rf\n",
    "from lib.handle_null_values import handle_null_values as null\n",
    "from lib.datetime_formatting import DatetimeFormatting as dfmt\n",
    "from lib.split_time_variable import split_time_variable as split_t\n",
    "from lib.correct_variable_types import correct_variable_types as vartype\n",
    "from lib.handle_null_values import handle_null_values as nulval"
   ]
  },
  {
   "cell_type": "code",
   "execution_count": 10,
   "metadata": {},
   "outputs": [],
   "source": [
    "\"\"\"Read the file\"\"\"\n",
    "file_name= \"lib/data/Snohomish'S_COUNTY6.3.csv\"\n",
    "\n",
    "r= rf()\n",
    "df= r.read(address=file_name)"
   ]
  },
  {
   "cell_type": "code",
   "execution_count": 14,
   "metadata": {},
   "outputs": [],
   "source": [
    "from pyspark.ml import Pipeline\n",
    "from pyspark.ml.feature import StringIndexer, OneHotEncoderEstimator"
   ]
  },
  {
   "cell_type": "code",
   "execution_count": 15,
   "metadata": {},
   "outputs": [
    {
     "data": {
      "text/plain": [
       "[('_c0', 'int'),\n",
       " ('bathroom_count', 'double'),\n",
       " ('zip_code', 'double'),\n",
       " ('covered_parking', 'double'),\n",
       " ('lot_size', 'int'),\n",
       " ('year_built', 'double'),\n",
       " ('floor_covering', 'string'),\n",
       " ('bedroom_count', 'string'),\n",
       " ('sold_price', 'string'),\n",
       " ('city_name', 'string'),\n",
       " ('longitude', 'string'),\n",
       " ('latitude', 'string'),\n",
       " ('garage', 'string'),\n",
       " ('unfinished_sq_foot', 'string'),\n",
       " ('topography', 'string'),\n",
       " ('county', 'string'),\n",
       " ('fireplaces_count', 'string'),\n",
       " ('community_name', 'string'),\n",
       " ('exterior', 'string'),\n",
       " ('heating_cooling', 'string'),\n",
       " ('roof', 'string'),\n",
       " ('area', 'string'),\n",
       " ('energy_source', 'string'),\n",
       " ('property_type', 'string'),\n",
       " ('sold_date_year', 'string'),\n",
       " ('sold_date_month', 'string'),\n",
       " ('sold_date_day', 'double')]"
      ]
     },
     "execution_count": 15,
     "metadata": {},
     "output_type": "execute_result"
    }
   ],
   "source": [
    "df.dtypes"
   ]
  },
  {
   "cell_type": "code",
   "execution_count": null,
   "metadata": {},
   "outputs": [],
   "source": [
    "for \n",
    "stringIndexer = StringIndexer(inputCol=column[0], outputCol=column[0] + \"Index\").setHandleInvalid(\"keep\")"
   ]
  },
  {
   "cell_type": "code",
   "execution_count": 2,
   "metadata": {},
   "outputs": [],
   "source": [
    "#encode all categorical variables. See github for inspiration."
   ]
  },
  {
   "cell_type": "code",
   "execution_count": 3,
   "metadata": {},
   "outputs": [],
   "source": [
    "#detele rows where y value is missing"
   ]
  },
  {
   "cell_type": "code",
   "execution_count": 4,
   "metadata": {},
   "outputs": [],
   "source": [
    "#fill missing values with mean"
   ]
  },
  {
   "cell_type": "code",
   "execution_count": 5,
   "metadata": {},
   "outputs": [],
   "source": [
    "#save the files in an excel file"
   ]
  },
  {
   "cell_type": "code",
   "execution_count": 6,
   "metadata": {},
   "outputs": [],
   "source": [
    "#run and arun tpot library"
   ]
  },
  {
   "cell_type": "code",
   "execution_count": null,
   "metadata": {},
   "outputs": [],
   "source": []
  }
 ],
 "metadata": {
  "kernelspec": {
   "display_name": "Python 3",
   "language": "python",
   "name": "python3"
  },
  "language_info": {
   "codemirror_mode": {
    "name": "ipython",
    "version": 3
   },
   "file_extension": ".py",
   "mimetype": "text/x-python",
   "name": "python",
   "nbconvert_exporter": "python",
   "pygments_lexer": "ipython3",
   "version": "3.6.9"
  }
 },
 "nbformat": 4,
 "nbformat_minor": 4
}
