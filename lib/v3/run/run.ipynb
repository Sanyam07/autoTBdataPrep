{
 "cells": [
  {
   "cell_type": "code",
   "execution_count": 1,
   "metadata": {},
   "outputs": [],
   "source": [
    "import os\n",
    "os.chdir('../')"
   ]
  },
  {
   "cell_type": "code",
   "execution_count": 2,
   "metadata": {},
   "outputs": [],
   "source": [
    "# imports\n",
    "import time\n",
    "from pipeline1 import *\n",
    "from readfile import ReadFile as rf"
   ]
  },
  {
   "cell_type": "code",
   "execution_count": 3,
   "metadata": {},
   "outputs": [],
   "source": [
    "# load a file and filter first 1000 rows.\n",
    "\n",
    "dataset1= \"run/tbl_property_details_mls_2019.csv\"\n",
    "\n",
    "r= rf()\n",
    "df= r.read(address=dataset1)\n",
    "df= df.limit(1000)"
   ]
  },
  {
   "cell_type": "code",
   "execution_count": 4,
   "metadata": {},
   "outputs": [],
   "source": [
    "# select important variables. Automating this step is also a priority.\n",
    "\n",
    "important_variables=['year_built', 'bedroom_count', 'bathroom_count','lot_size', 'area', 'city_name', 'community_name', 'covered_parking', \n",
    "                     'exterior', 'energy_source','fireplaces_count','floor_covering', 'garage','heating_cooling','latitude','longitude', \n",
    "                     'property_type', 'roof', 'sold_date', 'sold_price','unfinished_sq_foot', 'year_built', 'zip_code', 'county' ]\n",
    "    \n",
    "important_variables= list(set(important_variables))\n",
    "df2= df.select(*important_variables)"
   ]
  },
  {
   "cell_type": "code",
   "execution_count": 5,
   "metadata": {},
   "outputs": [
    {
     "name": "stdout",
     "output_type": "stream",
     "text": [
      "1. Find variables with 70% or more null values\n"
     ]
    },
    {
     "name": "stderr",
     "output_type": "stream",
     "text": [
      "[10-26 04:27:59] p76409 {/home/ubuntu/autoTBdataPrep/lib/v3/find_time_variables.py:38} WARNING - columns cotanins date:\n",
      "2019-10-26 04:27:59,172 [WARNING]  columns cotanins date:\n",
      "[10-26 04:27:59] p76409 {/home/ubuntu/autoTBdataPrep/lib/v3/find_time_variables.py:39} WARNING - ['sold_date']\n",
      "2019-10-26 04:27:59,174 [WARNING]  ['sold_date']\n"
     ]
    },
    {
     "name": "stdout",
     "output_type": "stream",
     "text": [
      "2. Find which varaible contains time and what the format of time is\n"
     ]
    },
    {
     "name": "stderr",
     "output_type": "stream",
     "text": [
      "[10-26 04:28:01] p76409 {/home/ubuntu/autoTBdataPrep/lib/v3/drop_col_with_same_val.py:38} WARNING - Columns to drop\n",
      "2019-10-26 04:28:01,015 [WARNING]  Columns to drop\n",
      "[10-26 04:28:01] p76409 {/home/ubuntu/autoTBdataPrep/lib/v3/drop_col_with_same_val.py:39} WARNING - []\n",
      "2019-10-26 04:28:01,017 [WARNING]  []\n"
     ]
    },
    {
     "name": "stdout",
     "output_type": "stream",
     "text": [
      "3. Find all variables with single value\n",
      "Total number of rows in the data are:  1000\n",
      "4. convert variable type\n",
      "done\n",
      "5. Treat duplications\n",
      "done\n",
      "6. Treat missing values in numeric variables\n"
     ]
    },
    {
     "data": {
      "text/plain": [
       "PipelineModel_42f2b9b6bf915ca2bc7b"
      ]
     },
     "execution_count": 5,
     "metadata": {},
     "output_type": "execute_result"
    }
   ],
   "source": [
    "# Initialize spark pipeline and run.\n",
    "\n",
    "p= transform_pipeline()\n",
    "p.build_pipeline(df2)"
   ]
  },
  {
   "cell_type": "code",
   "execution_count": 6,
   "metadata": {},
   "outputs": [
    {
     "name": "stdout",
     "output_type": "stream",
     "text": [
      "Time:  0.4004955291748047\n"
     ]
    }
   ],
   "source": [
    "# Transform data\n",
    "\n",
    "t1= time.time()\n",
    "\n",
    "df3= p.transform(df2)\n",
    "\n",
    "t2=time.time()\n",
    "print(\"Time: \", t2-t1)"
   ]
  },
  {
   "cell_type": "code",
   "execution_count": 9,
   "metadata": {},
   "outputs": [],
   "source": [
    "# Save spark pipeline.\n",
    "\n",
    "path = p.save_pipeline(path=\"run/spark\")"
   ]
  },
  {
   "cell_type": "code",
   "execution_count": 12,
   "metadata": {},
   "outputs": [],
   "source": [
    "# Load spark pipeline and transform new data.\n",
    "\n",
    "p2= transform_pipeline()\n",
    "p2.load_pipeline(df= df2, path=\"run/spark\")\n",
    "\n",
    "df4= p2.transform(df2)"
   ]
  }
 ],
 "metadata": {
  "kernelspec": {
   "display_name": "Python 3",
   "language": "python",
   "name": "python3"
  },
  "language_info": {
   "codemirror_mode": {
    "name": "ipython",
    "version": 3
   },
   "file_extension": ".py",
   "mimetype": "text/x-python",
   "name": "python",
   "nbconvert_exporter": "python",
   "pygments_lexer": "ipython3",
   "version": "3.6.5"
  }
 },
 "nbformat": 4,
 "nbformat_minor": 2
}
